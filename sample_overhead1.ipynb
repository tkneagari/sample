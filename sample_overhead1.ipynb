{
  "nbformat": 4,
  "nbformat_minor": 0,
  "metadata": {
    "colab": {
      "provenance": [],
      "authorship_tag": "ABX9TyPenqdDLYCfMkG37IYuq2bi",
      "include_colab_link": true
    },
    "kernelspec": {
      "name": "python3",
      "display_name": "Python 3"
    },
    "language_info": {
      "name": "python"
    }
  },
  "cells": [
    {
      "cell_type": "markdown",
      "metadata": {
        "id": "view-in-github",
        "colab_type": "text"
      },
      "source": [
        "<a href=\"https://colab.research.google.com/github/tkneagari/sample/blob/master/sample_overhead1.ipynb\" target=\"_parent\"><img src=\"https://colab.research.google.com/assets/colab-badge.svg\" alt=\"Open In Colab\"/></a>"
      ]
    },
    {
      "cell_type": "code",
      "source": [],
      "metadata": {
        "id": "0uUNwXxUGJR2"
      },
      "execution_count": null,
      "outputs": []
    },
    {
      "cell_type": "code",
      "metadata": {
        "id": "f6c4c95a"
      },
      "source": [
        "production_time_hours_1stDept = 18794\n",
        "production_time_hours_2ndDept = 32678\n",
        "production_time_hours_fillingDept = 24132"
      ],
      "execution_count": 7,
      "outputs": []
    },
    {
      "cell_type": "code",
      "source": [
        "production_time_hours_total = production_time_hours_1stDept + production_time_hours_2ndDept + production_time_hours_fillingDept"
      ],
      "metadata": {
        "id": "QUrt-sDNG38Q"
      },
      "execution_count": 9,
      "outputs": []
    },
    {
      "cell_type": "code",
      "source": [
        "num_production_workers_1stDept = 5\n",
        "num_production_workers_2ndDept = 6\n",
        "num_production_workers_fillingDept = 4"
      ],
      "metadata": {
        "id": "BLltr-kBGmzM"
      },
      "execution_count": 10,
      "outputs": []
    },
    {
      "cell_type": "code",
      "source": [
        "num_production_workers_total = num_production_workers_1stDept + num_production_workers_2ndDept + num_production_workers_fillingDept"
      ],
      "metadata": {
        "id": "ZxfbBpZrGxmE"
      },
      "execution_count": 11,
      "outputs": []
    },
    {
      "cell_type": "code",
      "source": [
        "production_volume_1stDept = 100666\n",
        "production_volume_2ndDept = 114073\n",
        "production_volume_fillingDept = 2496"
      ],
      "metadata": {
        "id": "6KOTc9O8HAxw"
      },
      "execution_count": 12,
      "outputs": []
    },
    {
      "cell_type": "code",
      "source": [
        "production_volume_total = production_volume_1stDept + production_volume_2ndDept + production_volume_fillingDept"
      ],
      "metadata": {
        "id": "gOmmZbOJHWwX"
      },
      "execution_count": 13,
      "outputs": []
    },
    {
      "cell_type": "code",
      "source": [
        "direct_cost_1stDept = 20898432\n",
        "direct_cost_2ndDept = 20638254\n",
        "direct_cost_fillingDept = 1984198"
      ],
      "metadata": {
        "id": "RBVUjVpHHaz2"
      },
      "execution_count": 14,
      "outputs": []
    },
    {
      "cell_type": "code",
      "source": [
        "direct_cost_total = direct_cost_1stDept + direct_cost_2ndDept + direct_cost_fillingDept"
      ],
      "metadata": {
        "id": "YGUpVdr8HvB6"
      },
      "execution_count": 15,
      "outputs": []
    },
    {
      "cell_type": "code",
      "source": [
        "overhead_cost_production_control_dept = 749382\n",
        "overhead_cost_delivery_dept = 923609\n",
        "overhead_cost_administration_dept = 618843"
      ],
      "metadata": {
        "id": "hwb7Zn9eHzrV"
      },
      "execution_count": 17,
      "outputs": []
    },
    {
      "cell_type": "code",
      "source": [],
      "metadata": {
        "id": "uqQF57A5IOBY"
      },
      "execution_count": null,
      "outputs": []
    }
  ]
}